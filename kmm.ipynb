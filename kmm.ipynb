{
 "cells": [
  {
   "cell_type": "code",
   "execution_count": 315,
   "metadata": {},
   "outputs": [],
   "source": [
    "from sklearn.cluster import KMeans\n",
    "import pandas as pd\n",
    "import numpy as np\n",
    "import matplotlib.pyplot as plt\n",
    "from sklearn import datasets\n",
    "\n",
    "two_moon=datasets.make_moons(n_samples=100,noise=0.1)\n",
    "X3=two_moon[0]\n",
    "KM3=KMeans(n_clusters=3,init='random',random_state=5)\n",
    "KM3.fit(X3)\n",
    "index=KM3.predict(X3)\n",
    "#plt.scatter(X3[:,0],X3[:,1],c=list(index))"
   ]
  },
  {
   "cell_type": "markdown",
   "metadata": {},
   "source": [
    "# KMM_Function"
   ]
  },
  {
   "cell_type": "code",
   "execution_count": 313,
   "metadata": {},
   "outputs": [],
   "source": [
    "import numpy as np\n",
    "\n",
    "class Clustering(object):\n",
    "    \n",
    "    def __init__(self): pass\n",
    "    \n",
    "    # ----- Parameter -----\n",
    "    # x : Data matrix\n",
    "    # c : The number of cluster\n",
    "    # m : The number of subcluster\n",
    "    # k : The number of neighbor points\n",
    "    \n",
    "    \n",
    "    def k_multiple_means(x,c,m,k=5):\n",
    "        \n",
    "        iterTimes=1000             #迭代次數\n",
    "        n=np.size(x,axis=0)        #共有幾筆資料\n",
    "        dim=np.size(x,axis=1)      #每筆資料的維度\n",
    "\n",
    "        A = np.random.random([m,dim])    #亂數產生k個dim維度的值 ----------- (initial) The prototype matrix \n",
    "        \n",
    "        #dist：distance matrix(initial)\n",
    "        dist=np.array(np.zeros([n,m]))    \n",
    "            \n",
    "        #S：connection probability matrix(initial)\n",
    "        S=np.array(np.ones([n,m]))   \n",
    "        \n",
    "        #--------用k-means找出初始index--------\n",
    "            \n",
    "        KM=KMeans(n_clusters=m,init='random',random_state=6)\n",
    "        KM.fit(x)\n",
    "        A_index=list(KM.predict(x))                            #A_index : 紀錄 Data point 屬於哪個 Prototype\n",
    "        \n",
    "        for count_iter in range(iterTimes):               \n",
    "            \n",
    "            old_A=np.copy(A)  \n",
    "            A=meanIdex(x,A_index,m,S)    \n",
    "             \n",
    "            #--------判斷收斂--------\n",
    "            th=np.linalg.norm(A-old_A)                       #計算兩個prototype的距離\n",
    "\n",
    "            if th<np.spacing(1):                             #電腦區分兩個數的差的最小精度，當兩個數的差小於這個值，則電腦認為兩個數相等\n",
    "                break\n",
    "        \n",
    "        A=meanIdex(x,A_index,m,S)\n",
    "        #--------做完約束的 mm ，就是 A_index\n",
    "        \n",
    "        return A,A_index"
   ]
  },
  {
   "cell_type": "markdown",
   "metadata": {},
   "source": [
    "# 測試視窗"
   ]
  },
  {
   "cell_type": "code",
   "execution_count": 314,
   "metadata": {},
   "outputs": [
    {
     "data": {
      "text/plain": [
       "<matplotlib.collections.PathCollection at 0x7f9891649590>"
      ]
     },
     "execution_count": 314,
     "metadata": {},
     "output_type": "execute_result"
    },
    {
     "data": {
      "image/png": "[encoded data removed]",
      "text/plain": [
       "<Figure size 432x288 with 1 Axes>"
      ]
     },
     "metadata": {
      "needs_background": "light"
     },
     "output_type": "display_data"
    }
   ],
   "source": [
    "x=Clustering.k_multiple_means(X3,3,3,1)\n",
    "plt.scatter(X3[:,0],X3[:,1],c=list(x[1]))"
   ]
  },
  {
   "cell_type": "markdown",
   "metadata": {},
   "source": [
    "------------------------------------------------------\n",
    "## Function \"<font color='red'>meanIdex</font>\" \n",
    "\n",
    "### 功能：更新 <font color='red'>A</font> (Prototype 座標 ) ----------> 對應公式（5）\n",
    "\n",
    "#### **(input)**\n",
    "- **x**       : Data Point<br>\n",
    "- **A_index** : 紀錄 Data point 屬於哪個 Prototype (Label值)<br>\n",
    "- **m**       : sub-cluster(prototype)數量<br>\n",
    "- **S**       : 連接機率矩陣<br>\n",
    "    \n",
    "#### **(return)**\n",
    "- 更新後的矩陣 **A** (Prototype 座標)<br>"
   ]
  },
  {
   "cell_type": "code",
   "execution_count": null,
   "metadata": {},
   "outputs": [],
   "source": [
    "def meanIdex(x,A_index,m,S):\n",
    "\n",
    "    A=np.zeros([m,2])\n",
    "    n=np.size(x,axis=0)\n",
    "    \n",
    "    for j in range(m):\n",
    "            index=0               #為了符合先乘除後加減，判斷使用\n",
    "            mu=0\n",
    "            su=0\n",
    "            for i in range(n):       \n",
    "                if A_index[i]==j:\n",
    "                    \n",
    "                    if index==0:\n",
    "                        mu=mu+x[i]\n",
    "                        mu=mu*S[i][j]\n",
    "                        index=1\n",
    "                    else:\n",
    "                        mu=mu+(x[i]*S[i][j])\n",
    "                    \n",
    "                    su=su+S[i][j]\n",
    "                    \n",
    "            A[j]=mu/su       \n",
    "    \n",
    "    return A"
   ]
  },
  {
   "cell_type": "code",
   "execution_count": null,
   "metadata": {},
   "outputs": [],
   "source": [
    "def CLR(x,c,A,k,y,l):\n",
    "    \n",
    "    # ----- Parameter -----\n",
    "    # x : Data matrix\n",
    "    # c : The number of cluster\n",
    "    # A : The prototype matrix\n",
    "    # k : The number of neighbor points\n",
    "    \n",
    "    n=np.size(x,axis=0)\n",
    "    m=np.size(A,axis=0)\n",
    "    \n",
    "    "
   ]
  },
  {
   "cell_type": "code",
   "execution_count": 263,
   "metadata": {},
   "outputs": [],
   "source": [
    "def ConstructA_NP(x,A,k=5,isSparse=1):\n",
    "    \n",
    "    n=np.size(x,axis=0)     #計算 Data point 數量\n",
    "    m=np.size(A,axis=0)     #計算 Prototype 數量\n",
    "    \n",
    "    dis=np.zeros([n,m])\n",
    "    \n",
    "    for i in range(m):\n",
    "        c=A[i]\n",
    "        dis[:,i] = np.linalg.norm(x-c,axis=1)\n",
    "    print(dis)\n",
    "    "
   ]
  },
  {
   "cell_type": "code",
   "execution_count": 289,
   "metadata": {},
   "outputs": [
    {
     "ename": "SyntaxError",
     "evalue": "invalid syntax (<ipython-input-289-1614afd4daa7>, line 4)",
     "output_type": "error",
     "traceback": [
      "\u001b[0;36m  File \u001b[0;32m\"<ipython-input-289-1614afd4daa7>\"\u001b[0;36m, line \u001b[0;32m4\u001b[0m\n\u001b[0;31m    c=a[:,0]*n+[1:n]\u001b[0m\n\u001b[0m                 ^\u001b[0m\n\u001b[0;31mSyntaxError\u001b[0m\u001b[0;31m:\u001b[0m invalid syntax\n"
     ]
    }
   ],
   "source": [
    "a=np.random.random([2,2])\n",
    "print(a)\n",
    "n=2\n",
    "c=a[:,0]*n+[1:n]\n",
    "print(c)"
   ]
  },
  {
   "cell_type": "code",
   "execution_count": null,
   "metadata": {},
   "outputs": [],
   "source": []
  }
 ],
 "metadata": {
  "kernelspec": {
   "display_name": "Data mining",
   "language": "python",
   "name": "data_miningg"
  },
  "language_info": {
   "codemirror_mode": {
    "name": "ipython",
    "version": 3
   },
   "file_extension": ".py",
   "mimetype": "text/x-python",
   "name": "python",
   "nbconvert_exporter": "python",
   "pygments_lexer": "ipython3",
   "version": "3.7.9"
  }
 },
 "nbformat": 4,
 "nbformat_minor": 4
}
